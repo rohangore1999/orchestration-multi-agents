{
 "cells": [
  {
   "cell_type": "markdown",
   "metadata": {},
   "source": [
    "# Flow of Multi Agent - Calculation\n",
    "\n",
    "![Multi Agent - Calculation](multi-agent.png \"Multi Agent - Calculation\")\n"
   ]
  },
  {
   "cell_type": "code",
   "execution_count": 59,
   "metadata": {},
   "outputs": [],
   "source": [
    "from typing_extensions import Literal\n",
    "from langchain_core.tools import tool\n",
    "from langchain_groq import ChatGroq\n",
    "from langgraph.graph import MessagesState, StateGraph,START,END\n",
    "from langgraph.types import Command\n",
    "from dotenv import load_dotenv\n",
    "from IPython.display import Image, display\n",
    "from langchain_openai import ChatOpenAI\n",
    "from langchain_core.messages import BaseMessage, HumanMessage\n",
    "from langgraph.prebuilt import create_react_agent\n",
    "from typing import Annotated\n",
    "from langchain_experimental.utilities import PythonREPL"
   ]
  },
  {
   "cell_type": "code",
   "execution_count": 2,
   "metadata": {},
   "outputs": [
    {
     "data": {
      "text/plain": [
       "True"
      ]
     },
     "execution_count": 2,
     "metadata": {},
     "output_type": "execute_result"
    }
   ],
   "source": [
    "load_dotenv()"
   ]
  },
  {
   "cell_type": "code",
   "execution_count": 3,
   "metadata": {},
   "outputs": [],
   "source": [
    "groq_model=ChatGroq(model=\"deepseek-r1-distill-llama-70b\")"
   ]
  },
  {
   "cell_type": "code",
   "execution_count": 4,
   "metadata": {},
   "outputs": [
    {
     "data": {
      "text/plain": [
       "AIMessage(content=\"<think>\\n\\n</think>\\n\\nHello! I'm just a virtual assistant, so I don't have feelings, but I'm here and ready to help you with whatever you need. How are you doing? 😊\", additional_kwargs={}, response_metadata={'token_usage': {'completion_tokens': 42, 'prompt_tokens': 9, 'total_tokens': 51, 'completion_time': 0.152727273, 'prompt_time': 0.003489994, 'queue_time': 0.057493946, 'total_time': 0.156217267}, 'model_name': 'deepseek-r1-distill-llama-70b', 'system_fingerprint': 'fp_454c494f52', 'finish_reason': 'stop', 'logprobs': None}, id='run-f35eabbf-1cb7-44ca-aab3-74a08039ee4e-0', usage_metadata={'input_tokens': 9, 'output_tokens': 42, 'total_tokens': 51})"
      ]
     },
     "execution_count": 4,
     "metadata": {},
     "output_type": "execute_result"
    }
   ],
   "source": [
    "groq_model.invoke(\"Hello, how are you?\")"
   ]
  },
  {
   "cell_type": "markdown",
   "metadata": {},
   "source": [
    "## Simple Example of addition (under the hood)"
   ]
  },
  {
   "cell_type": "code",
   "execution_count": 29,
   "metadata": {},
   "outputs": [],
   "source": [
    "def add_number(state):\n",
    "    result = state['number1'] + state['number2']\n",
    "    print(f\"The result of {state['number1']} + {state['number2']} is {result}\")\n",
    "    \n",
    "    return Command(\n",
    "        goto=\"multiply\",\n",
    "        update={\"sum\": result}\n",
    "    )"
   ]
  },
  {
   "cell_type": "code",
   "execution_count": 43,
   "metadata": {},
   "outputs": [
    {
     "name": "stdout",
     "output_type": "stream",
     "text": [
      "The result of 10 + 20 is 30\n"
     ]
    },
    {
     "data": {
      "text/plain": [
       "Command(update={'sum': 30}, goto='multiply')"
      ]
     },
     "execution_count": 43,
     "metadata": {},
     "output_type": "execute_result"
    }
   ],
   "source": [
    "state = {'number1': 10, 'number2': 20}\n",
    "\n",
    "add_number(state)"
   ]
  },
  {
   "cell_type": "code",
   "execution_count": 44,
   "metadata": {},
   "outputs": [
    {
     "data": {
      "text/plain": [
       "[]"
      ]
     },
     "execution_count": 44,
     "metadata": {},
     "output_type": "execute_result"
    }
   ],
   "source": [
    "## Bind to the tool with the model\n",
    "model_with_tool = groq_model.bind_tools([add_number])\n",
    "ai_message = model_with_tool.invoke(\"Hi, there\")\n",
    "ai_message.tool_calls"
   ]
  },
  {
   "cell_type": "code",
   "execution_count": 45,
   "metadata": {},
   "outputs": [
    {
     "data": {
      "text/plain": [
       "[{'name': 'add_number',\n",
       "  'args': {'state': {'num1': 10, 'num2': 20}},\n",
       "  'id': 'call_f4t7',\n",
       "  'type': 'tool_call'}]"
      ]
     },
     "execution_count": 45,
     "metadata": {},
     "output_type": "execute_result"
    }
   ],
   "source": [
    "ai_message = model_with_tool.invoke(\n",
    "    \"Please use the add_number tool to add 10 and 20. The state should have num1=10 and num2=20.\"\n",
    ")\n",
    "\n",
    "ai_message.tool_calls"
   ]
  },
  {
   "cell_type": "markdown",
   "metadata": {},
   "source": [
    "### Tools"
   ]
  },
  {
   "cell_type": "code",
   "execution_count": 48,
   "metadata": {},
   "outputs": [],
   "source": [
    "@tool\n",
    "def transfer_to_multiplication_expert():\n",
    "    \"\"\"\n",
    "    Transfer the control to the multiplication expert\n",
    "    \"\"\"\n",
    "    return"
   ]
  },
  {
   "cell_type": "code",
   "execution_count": 49,
   "metadata": {},
   "outputs": [],
   "source": [
    "@tool\n",
    "def transfer_to_addition_expert():\n",
    "    \"\"\"\n",
    "    Transfer the control to the addition expert\n",
    "    \"\"\"\n",
    "    return"
   ]
  },
  {
   "cell_type": "markdown",
   "metadata": {},
   "source": [
    "Using Command[Literal[\"...\", \"__end__\"]], you're explicitly declaring which functions/nodes your current function can transition to. The system uses this type information to draw the edges in the graph."
   ]
  },
  {
   "cell_type": "code",
   "execution_count": 50,
   "metadata": {},
   "outputs": [],
   "source": [
    "\"\"\"\n",
    "Command[Literal[\"multiplication_expert\", \"__end__\"]] means this function can only transition to either \n",
    "the multiplication expert or end the flow\n",
    "\"\"\"\n",
    "def addition_expert(state: MessagesState) -> Command[Literal[\"multiplication_expert\", \"__end__\"]]:\n",
    "    system_prompt = (\n",
    "        \"\"\"You are an expert in addition, you can ask multiplication expert for help. You will be given a problem and you \n",
    "        need to solve it. Always do your portion of calculation before transferring the control to the multiplication expert.\n",
    "        \"\"\"\n",
    "    )\n",
    "    \n",
    "    messages = [{\"role\": \"system\", \"content\": system_prompt}] + state[\"messages\"]\n",
    "    \n",
    "    ## Calls an AI model (presumably Groq) with the tool transfer_to_multiplication_expert bound to it\n",
    "    ai_msg = groq_model.bind_tools([transfer_to_multiplication_expert]).invoke(messages)\n",
    "    \n",
    "    print(\"AI Message: \", ai_msg)\n",
    "    \n",
    "    ## It checks if the AI made any tool calls (e.g., requested to transfer control)\n",
    "    if len(ai_msg.tool_calls) > 0:\n",
    "        tool_call_id = ai_msg.tool_calls[-1][\"id\"]\n",
    "        ## kind off acknowledgement.\n",
    "        tool_msg = { ## keeping description of the tool call\n",
    "            \"role\": \"tool\",\n",
    "            \"content\": \"Successfully Transferred\",\n",
    "            \"tool_call_id\": tool_call_id,\n",
    "        }\n",
    "        \n",
    "        return Command(\n",
    "            goto=\"multiplication_expert\", # directs the flow to transition to the multiplication expert function\n",
    "            update={\"messages\": [ai_msg, tool_msg]} # passes the updated conversation history to the next function\n",
    "        )\n",
    "\n",
    "    ## If no tool calls were made, it simply returns the updated messages:        \n",
    "    return {\"messages\": [ai_msg]}"
   ]
  },
  {
   "cell_type": "code",
   "execution_count": 51,
   "metadata": {},
   "outputs": [],
   "source": [
    "\"\"\"\n",
    "Command[Literal[\"addition_expert\", \"__end__\"]] means this function can only transition to either the \n",
    "addition expert or end the flow\n",
    "\"\"\"\n",
    "def multiplication_expert(state: MessagesState) -> Command[Literal[\"addition_expert\", \"__end__\"]]:\n",
    "    system_prompt = (\n",
    "        \"\"\"You are an expert in multiplication, you can ask addition expert for help. You will be given a problem and you \n",
    "        need to solve it. Always do your portion of calculation before transferring the control to the addition expert.\n",
    "        \"\"\"\n",
    "    )\n",
    "    \n",
    "    messages = [{\"role\": \"system\", \"content\": system_prompt}] + state[\"messages\"]\n",
    "    \n",
    "    ## Calls an AI model (presumably Groq) with the tool transfer_to_addition_expert bound to it\n",
    "    ai_msg = groq_model.bind_tools([transfer_to_addition_expert]).invoke(messages)\n",
    "    \n",
    "    print(\"AI Message: \", ai_msg)\n",
    "    \n",
    "    ## It checks if the AI made any tool calls (e.g., requested to transfer control)\n",
    "    if len(ai_msg.tool_calls) > 0:\n",
    "        tool_call_id = ai_msg.tool_calls[-1][\"id\"]\n",
    "        ## kind off acknowledgement.\n",
    "        tool_msg = { ## keeping description of the tool call\n",
    "            \"role\": \"tool\",\n",
    "            \"content\": \"Successfully Transferred\",\n",
    "            \"tool_call_id\": tool_call_id,\n",
    "        }\n",
    "        \n",
    "        return Command(\n",
    "            goto=\"addition_expert\", # directs the flow to transition to the multiplication expert function\n",
    "            update={\"messages\": [ai_msg, tool_msg]} # passes the updated conversation history to the next function\n",
    "        )\n",
    "\n",
    "    ## If no tool calls were made, it simply returns the updated messages:        \n",
    "    return {\"messages\": [ai_msg]}"
   ]
  },
  {
   "cell_type": "code",
   "execution_count": 52,
   "metadata": {},
   "outputs": [
    {
     "data": {
      "text/plain": [
       "<langgraph.graph.state.StateGraph at 0x119418cd0>"
      ]
     },
     "execution_count": 52,
     "metadata": {},
     "output_type": "execute_result"
    }
   ],
   "source": [
    "graph = StateGraph(MessagesState)\n",
    "\n",
    "# nodes\n",
    "graph.add_node(\"addition_expert\", addition_expert)\n",
    "graph.add_node(\"multiplication_expert\", multiplication_expert)\n",
    "\n",
    "# edges\n",
    "graph.add_edge(START, \"addition_expert\") ## just declaring the input edge for starting point"
   ]
  },
  {
   "cell_type": "code",
   "execution_count": 53,
   "metadata": {},
   "outputs": [],
   "source": [
    "app = graph.compile()"
   ]
  },
  {
   "cell_type": "code",
   "execution_count": 54,
   "metadata": {},
   "outputs": [
    {
     "data": {
      "image/png": "[encoded data removed]",
      "text/plain": [
       "<IPython.core.display.Image object>"
      ]
     },
     "metadata": {},
     "output_type": "display_data"
    }
   ],
   "source": [
    "display(Image(app.get_graph().draw_mermaid_png()))"
   ]
  },
  {
   "cell_type": "code",
   "execution_count": 60,
   "metadata": {},
   "outputs": [
    {
     "name": "stdout",
     "output_type": "stream",
     "text": [
      "AI Message:  content='' additional_kwargs={'tool_calls': [{'id': 'call_6x8j', 'function': {'arguments': '{}', 'name': 'transfer_to_multiplication_expert'}, 'type': 'function'}]} response_metadata={'token_usage': {'completion_tokens': 365, 'prompt_tokens': 174, 'total_tokens': 539, 'completion_time': 1.327272727, 'prompt_time': 0.011821296, 'queue_time': 0.053917214, 'total_time': 1.339094023}, 'model_name': 'deepseek-r1-distill-llama-70b', 'system_fingerprint': 'fp_454c494f52', 'finish_reason': 'tool_calls', 'logprobs': None} id='run-ece05c0e-540d-4360-9951-0403daabe627-0' tool_calls=[{'name': 'transfer_to_multiplication_expert', 'args': {}, 'id': 'call_6x8j', 'type': 'tool_call'}] usage_metadata={'input_tokens': 174, 'output_tokens': 365, 'total_tokens': 539}\n",
      "AI Message:  content='' additional_kwargs={'tool_calls': [{'id': 'call_fmv4', 'function': {'arguments': '{}', 'name': 'transfer_to_addition_expert'}, 'type': 'function'}]} response_metadata={'token_usage': {'completion_tokens': 295, 'prompt_tokens': 238, 'total_tokens': 533, 'completion_time': 1.072727273, 'prompt_time': 0.018611907, 'queue_time': 0.07364607100000001, 'total_time': 1.09133918}, 'model_name': 'deepseek-r1-distill-llama-70b', 'system_fingerprint': 'fp_fc872c073e', 'finish_reason': 'tool_calls', 'logprobs': None} id='run-63fdbc90-f652-4d8b-bea6-1216670c39b4-0' tool_calls=[{'name': 'transfer_to_addition_expert', 'args': {}, 'id': 'call_fmv4', 'type': 'tool_call'}] usage_metadata={'input_tokens': 238, 'output_tokens': 295, 'total_tokens': 533}\n",
      "AI Message:  content=\"The result of 10 + 20 is 30. \\n\\n**Step-by-Step Explanation:**\\n\\n1. **Add the units place:** 0 (from 10) + 0 (from 20) = 0.\\n2. **Add the tens place:** 1 (from 10) + 2 (from 20) = 3.\\n3. **Combine the results:** 30.\\n\\nSince the problem involves only addition and no multiplication, there's no need to transfer control to the multiplication expert. \\n\\n**Answer:** 30\" additional_kwargs={} response_metadata={'token_usage': {'completion_tokens': 479, 'prompt_tokens': 300, 'total_tokens': 779, 'completion_time': 1.741818182, 'prompt_time': 0.015355884, 'queue_time': 0.058547635, 'total_time': 1.7571740660000001}, 'model_name': 'deepseek-r1-distill-llama-70b', 'system_fingerprint': 'fp_2834edf0f4', 'finish_reason': 'stop', 'logprobs': None} id='run-81751ae9-3fc5-4e92-9742-f667e8f9a097-0' usage_metadata={'input_tokens': 300, 'output_tokens': 479, 'total_tokens': 779}\n"
     ]
    },
    {
     "data": {
      "text/plain": [
       "{'messages': [HumanMessage(content='What is the result of 10 + 20?', additional_kwargs={}, response_metadata={}, id='3e0ba3b9-dde1-4830-b730-87f5d586897f'),\n",
       "  AIMessage(content='', additional_kwargs={'tool_calls': [{'id': 'call_6x8j', 'function': {'arguments': '{}', 'name': 'transfer_to_multiplication_expert'}, 'type': 'function'}]}, response_metadata={'token_usage': {'completion_tokens': 365, 'prompt_tokens': 174, 'total_tokens': 539, 'completion_time': 1.327272727, 'prompt_time': 0.011821296, 'queue_time': 0.053917214, 'total_time': 1.339094023}, 'model_name': 'deepseek-r1-distill-llama-70b', 'system_fingerprint': 'fp_454c494f52', 'finish_reason': 'tool_calls', 'logprobs': None}, id='run-ece05c0e-540d-4360-9951-0403daabe627-0', tool_calls=[{'name': 'transfer_to_multiplication_expert', 'args': {}, 'id': 'call_6x8j', 'type': 'tool_call'}], usage_metadata={'input_tokens': 174, 'output_tokens': 365, 'total_tokens': 539}),\n",
       "  ToolMessage(content='Successfully Transferred', id='a667531b-0a96-4294-9e93-fb8605c4ecbd', tool_call_id='call_6x8j'),\n",
       "  AIMessage(content='', additional_kwargs={'tool_calls': [{'id': 'call_fmv4', 'function': {'arguments': '{}', 'name': 'transfer_to_addition_expert'}, 'type': 'function'}]}, response_metadata={'token_usage': {'completion_tokens': 295, 'prompt_tokens': 238, 'total_tokens': 533, 'completion_time': 1.072727273, 'prompt_time': 0.018611907, 'queue_time': 0.07364607100000001, 'total_time': 1.09133918}, 'model_name': 'deepseek-r1-distill-llama-70b', 'system_fingerprint': 'fp_fc872c073e', 'finish_reason': 'tool_calls', 'logprobs': None}, id='run-63fdbc90-f652-4d8b-bea6-1216670c39b4-0', tool_calls=[{'name': 'transfer_to_addition_expert', 'args': {}, 'id': 'call_fmv4', 'type': 'tool_call'}], usage_metadata={'input_tokens': 238, 'output_tokens': 295, 'total_tokens': 533}),\n",
       "  ToolMessage(content='Successfully Transferred', id='04f79c1d-d26d-4b66-ae69-4da9af1cb8f8', tool_call_id='call_fmv4'),\n",
       "  AIMessage(content=\"The result of 10 + 20 is 30. \\n\\n**Step-by-Step Explanation:**\\n\\n1. **Add the units place:** 0 (from 10) + 0 (from 20) = 0.\\n2. **Add the tens place:** 1 (from 10) + 2 (from 20) = 3.\\n3. **Combine the results:** 30.\\n\\nSince the problem involves only addition and no multiplication, there's no need to transfer control to the multiplication expert. \\n\\n**Answer:** 30\", additional_kwargs={}, response_metadata={'token_usage': {'completion_tokens': 479, 'prompt_tokens': 300, 'total_tokens': 779, 'completion_time': 1.741818182, 'prompt_time': 0.015355884, 'queue_time': 0.058547635, 'total_time': 1.7571740660000001}, 'model_name': 'deepseek-r1-distill-llama-70b', 'system_fingerprint': 'fp_2834edf0f4', 'finish_reason': 'stop', 'logprobs': None}, id='run-81751ae9-3fc5-4e92-9742-f667e8f9a097-0', usage_metadata={'input_tokens': 300, 'output_tokens': 479, 'total_tokens': 779})]}"
      ]
     },
     "execution_count": 60,
     "metadata": {},
     "output_type": "execute_result"
    }
   ],
   "source": [
    "app.invoke({\"messages\": [HumanMessage(content=\"What is the result of 10 + 20?\")]})"
   ]
  },
  {
   "cell_type": "code",
   "execution_count": 58,
   "metadata": {},
   "outputs": [
    {
     "name": "stdout",
     "output_type": "stream",
     "text": [
      "AI Message:  content='' additional_kwargs={'tool_calls': [{'id': 'call_kcgh', 'function': {'arguments': '{}', 'name': 'transfer_to_multiplication_expert'}, 'type': 'function'}]} response_metadata={'token_usage': {'completion_tokens': 348, 'prompt_tokens': 355, 'total_tokens': 703, 'completion_time': 1.2654545449999999, 'prompt_time': 0.016955017, 'queue_time': -1.5848979389999998, 'total_time': 1.282409562}, 'model_name': 'deepseek-r1-distill-llama-70b', 'system_fingerprint': 'fp_454c494f52', 'finish_reason': 'tool_calls', 'logprobs': None} id='run-b4858a98-ee28-4387-844e-85498b6732a9-0' tool_calls=[{'name': 'transfer_to_multiplication_expert', 'args': {}, 'id': 'call_kcgh', 'type': 'tool_call'}] usage_metadata={'input_tokens': 355, 'output_tokens': 348, 'total_tokens': 703}\n",
      "AI Message:  content='The result of (30 + 40) * 50 is 3500.\\n\\n**Step-by-Step Explanation:**\\n\\n1. **Solve the addition inside the parentheses:**\\n   - 30 + 40 = 70\\n\\n2. **Multiply the result by 50:**\\n   - 70 * 50 = 3500\\n\\n**Final Answer:** 3500' additional_kwargs={} response_metadata={'token_usage': {'completion_tokens': 441, 'prompt_tokens': 240, 'total_tokens': 681, 'completion_time': 1.603636364, 'prompt_time': 0.014136109, 'queue_time': 0.048184820999999996, 'total_time': 1.617772473}, 'model_name': 'deepseek-r1-distill-llama-70b', 'system_fingerprint': 'fp_fc872c073e', 'finish_reason': 'stop', 'logprobs': None} id='run-617bdfe4-25d6-4eba-8064-8f84b43ee4b7-0' usage_metadata={'input_tokens': 240, 'output_tokens': 441, 'total_tokens': 681}\n",
      "{'messages': [HumanMessage(content='What is the result of (30 + 40) * 50 ?', additional_kwargs={}, response_metadata={}, id='ddfeb27b-ad66-427f-ba24-a331d092af5e'), AIMessage(content='', additional_kwargs={'tool_calls': [{'id': 'call_kcgh', 'function': {'arguments': '{}', 'name': 'transfer_to_multiplication_expert'}, 'type': 'function'}]}, response_metadata={'token_usage': {'completion_tokens': 348, 'prompt_tokens': 355, 'total_tokens': 703, 'completion_time': 1.2654545449999999, 'prompt_time': 0.016955017, 'queue_time': -1.5848979389999998, 'total_time': 1.282409562}, 'model_name': 'deepseek-r1-distill-llama-70b', 'system_fingerprint': 'fp_454c494f52', 'finish_reason': 'tool_calls', 'logprobs': None}, id='run-b4858a98-ee28-4387-844e-85498b6732a9-0', tool_calls=[{'name': 'transfer_to_multiplication_expert', 'args': {}, 'id': 'call_kcgh', 'type': 'tool_call'}], usage_metadata={'input_tokens': 355, 'output_tokens': 348, 'total_tokens': 703}), ToolMessage(content='Successfully Transferred', id='a6c45135-551b-4132-817b-4a927c05a1d7', tool_call_id='call_kcgh'), AIMessage(content='The result of (30 + 40) * 50 is 3500.\\n\\n**Step-by-Step Explanation:**\\n\\n1. **Solve the addition inside the parentheses:**\\n   - 30 + 40 = 70\\n\\n2. **Multiply the result by 50:**\\n   - 70 * 50 = 3500\\n\\n**Final Answer:** 3500', additional_kwargs={}, response_metadata={'token_usage': {'completion_tokens': 441, 'prompt_tokens': 240, 'total_tokens': 681, 'completion_time': 1.603636364, 'prompt_time': 0.014136109, 'queue_time': 0.048184820999999996, 'total_time': 1.617772473}, 'model_name': 'deepseek-r1-distill-llama-70b', 'system_fingerprint': 'fp_fc872c073e', 'finish_reason': 'stop', 'logprobs': None}, id='run-617bdfe4-25d6-4eba-8064-8f84b43ee4b7-0', usage_metadata={'input_tokens': 240, 'output_tokens': 441, 'total_tokens': 681})]}\n"
     ]
    }
   ],
   "source": [
    "print(app.invoke({\"messages\": [HumanMessage(content=\"What is the result of (30 + 40) * 50 ?\")]}))"
   ]
  },
  {
   "cell_type": "code",
   "execution_count": 63,
   "metadata": {},
   "outputs": [
    {
     "name": "stdout",
     "output_type": "stream",
     "text": [
      "AI Message:  content='' additional_kwargs={'tool_calls': [{'id': 'call_40jd', 'function': {'arguments': '{}', 'name': 'transfer_to_multiplication_expert'}, 'type': 'function'}]} response_metadata={'token_usage': {'completion_tokens': 374, 'prompt_tokens': 182, 'total_tokens': 556, 'completion_time': 1.3599999999999999, 'prompt_time': 0.011316514, 'queue_time': 0.049506175, 'total_time': 1.371316514}, 'model_name': 'deepseek-r1-distill-llama-70b', 'system_fingerprint': 'fp_454c494f52', 'finish_reason': 'tool_calls', 'logprobs': None} id='run-3976149c-7e8e-4cdc-aabb-bf13a012d3c5-0' tool_calls=[{'name': 'transfer_to_multiplication_expert', 'args': {}, 'id': 'call_40jd', 'type': 'tool_call'}] usage_metadata={'input_tokens': 182, 'output_tokens': 374, 'total_tokens': 556}\n",
      "****chunk...****\n",
      "Update from node addition_expert:\n",
      "\n",
      "\n",
      "==================================\u001b[1m Ai Message \u001b[0m==================================\n",
      "Tool Calls:\n",
      "  transfer_to_multiplication_expert (call_40jd)\n",
      " Call ID: call_40jd\n",
      "  Args:\n",
      "=================================\u001b[1m Tool Message \u001b[0m=================================\n",
      "\n",
      "Successfully Transferred\n",
      "\n",
      "\n",
      "AI Message:  content='' additional_kwargs={'tool_calls': [{'id': 'call_8jt2', 'function': {'arguments': '{}', 'name': 'transfer_to_addition_expert'}, 'type': 'function'}]} response_metadata={'token_usage': {'completion_tokens': 409, 'prompt_tokens': 244, 'total_tokens': 653, 'completion_time': 1.4872727270000001, 'prompt_time': 0.016580832, 'queue_time': 0.29747365200000003, 'total_time': 1.503853559}, 'model_name': 'deepseek-r1-distill-llama-70b', 'system_fingerprint': 'fp_454c494f52', 'finish_reason': 'tool_calls', 'logprobs': None} id='run-dbfadc06-070d-489a-9203-b21ce47e0950-0' tool_calls=[{'name': 'transfer_to_addition_expert', 'args': {}, 'id': 'call_8jt2', 'type': 'tool_call'}] usage_metadata={'input_tokens': 244, 'output_tokens': 409, 'total_tokens': 653}\n",
      "****chunk...****\n",
      "Update from node multiplication_expert:\n",
      "\n",
      "\n",
      "==================================\u001b[1m Ai Message \u001b[0m==================================\n",
      "Tool Calls:\n",
      "  transfer_to_addition_expert (call_8jt2)\n",
      " Call ID: call_8jt2\n",
      "  Args:\n",
      "=================================\u001b[1m Tool Message \u001b[0m=================================\n",
      "\n",
      "Successfully Transferred\n",
      "\n",
      "\n",
      "AI Message:  content='The solution to the problem (3 + 5) * 12 + 100 is calculated as follows:\\n\\n1. First, solve the addition inside the parentheses: 3 + 5 = 8.\\n2. Next, multiply the result by 12: 8 * 12 = 96.\\n3. Finally, add 100 to the result: 96 + 100 = 196.\\n\\n**Answer:** 196' additional_kwargs={} response_metadata={'token_usage': {'completion_tokens': 378, 'prompt_tokens': 307, 'total_tokens': 685, 'completion_time': 1.374545455, 'prompt_time': 0.025925501, 'queue_time': 0.077427787, 'total_time': 1.400470956}, 'model_name': 'deepseek-r1-distill-llama-70b', 'system_fingerprint': 'fp_fc872c073e', 'finish_reason': 'stop', 'logprobs': None} id='run-56bb14a8-dc04-41cb-bc53-23192b787bb2-0' usage_metadata={'input_tokens': 307, 'output_tokens': 378, 'total_tokens': 685}\n",
      "****chunk...****\n",
      "Update from node addition_expert:\n",
      "\n",
      "\n",
      "==================================\u001b[1m Ai Message \u001b[0m==================================\n",
      "\n",
      "The solution to the problem (3 + 5) * 12 + 100 is calculated as follows:\n",
      "\n",
      "1. First, solve the addition inside the parentheses: 3 + 5 = 8.\n",
      "2. Next, multiply the result by 12: 8 * 12 = 96.\n",
      "3. Finally, add 100 to the result: 96 + 100 = 196.\n",
      "\n",
      "**Answer:** 196\n",
      "\n",
      "\n"
     ]
    }
   ],
   "source": [
    "from langchain_core.messages import convert_to_messages\n",
    "def pretty_print_messages(update):\n",
    "    if isinstance(update, tuple):\n",
    "        ns, update = update\n",
    "        # skip parent graph updates in the printouts\n",
    "        if len(ns) == 0:\n",
    "            return\n",
    "\n",
    "        graph_id = ns[-1].split(\":\")[0]\n",
    "        print(f\"Update from subgraph {graph_id}:\")\n",
    "        print(\"\\n\")\n",
    "\n",
    "    for node_name, node_update in update.items():\n",
    "        print(f\"Update from node {node_name}:\")\n",
    "        print(\"\\n\")\n",
    "\n",
    "        for m in convert_to_messages(node_update[\"messages\"]):\n",
    "            m.pretty_print()\n",
    "        print(\"\\n\")\n",
    "        \n",
    "# Streaming the input\n",
    "for chunk in app.stream(\n",
    "    {\"messages\": [(\"user\", \"what's (3 + 5) * 12 + 100. Provide me the output\")]},\n",
    "):\n",
    "    print(\"****chunk...****\")\n",
    "    \n",
    "    pretty_print_messages(chunk)        "
   ]
  },
  {
   "cell_type": "code",
   "execution_count": null,
   "metadata": {},
   "outputs": [],
   "source": []
  }
 ],
 "metadata": {
  "kernelspec": {
   "display_name": "venv",
   "language": "python",
   "name": "python3"
  },
  "language_info": {
   "codemirror_mode": {
    "name": "ipython",
    "version": 3
   },
   "file_extension": ".py",
   "mimetype": "text/x-python",
   "name": "python",
   "nbconvert_exporter": "python",
   "pygments_lexer": "ipython3",
   "version": "3.13.2"
  }
 },
 "nbformat": 4,
 "nbformat_minor": 2
}
